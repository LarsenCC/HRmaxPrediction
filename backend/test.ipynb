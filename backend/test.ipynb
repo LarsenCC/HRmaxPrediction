{
 "cells": [
  {
   "cell_type": "code",
   "execution_count": 3,
   "source": [
    "import pandas as pd\r\n",
    "import pickle\r\n",
    "import numpy as np\r\n",
    "from sklearn.ensemble import RandomForestRegressor"
   ],
   "outputs": [],
   "metadata": {}
  },
  {
   "cell_type": "code",
   "execution_count": 6,
   "source": [
    "filename = './models/finalized_rf_model.sav'\r\n",
    "loaded_model = pickle.load(open(filename, 'rb'))"
   ],
   "outputs": [],
   "metadata": {}
  },
  {
   "cell_type": "code",
   "execution_count": 18,
   "source": [
    "df_norm = pd.read_csv('./all_normalized.csv')"
   ],
   "outputs": [],
   "metadata": {}
  },
  {
   "cell_type": "code",
   "execution_count": 19,
   "source": [
    "df = pd.read_csv('./all_not_normalized.csv')"
   ],
   "outputs": [],
   "metadata": {}
  },
  {
   "cell_type": "code",
   "execution_count": 13,
   "source": [
    "attributes = ['ageattest', 'resting_hr', 'height inch->cm',\r\n",
    "           'resting_sbp', 'resting_dbp', 'weight Ib->kg']\r\n",
    "df_norm[attributes]"
   ],
   "outputs": [
    {
     "output_type": "execute_result",
     "data": {
      "text/plain": [
       "       ageattest  resting_hr  height inch->cm  resting_sbp  resting_dbp  \\\n",
       "0           42.0       60.00           186.70       122.00        82.00   \n",
       "1           55.0       72.26           159.99       121.71        78.74   \n",
       "2           62.0       72.26           157.00       121.71        78.74   \n",
       "3           58.0       68.00           185.42       118.00        74.00   \n",
       "4           55.0       72.26           171.90       121.71        78.74   \n",
       "...          ...         ...              ...          ...          ...   \n",
       "17320       47.0      110.00           179.07       124.00        74.00   \n",
       "17321       26.0       96.00           165.10       108.00        72.00   \n",
       "17322       50.0      106.00           181.61       118.00        72.00   \n",
       "17323       20.0      105.00           182.88       122.00        76.00   \n",
       "17324       75.0      111.00           170.18       138.00        94.00   \n",
       "\n",
       "       weight Ib->kg  \n",
       "0              84.81  \n",
       "1              87.79  \n",
       "2              78.09  \n",
       "3              80.82  \n",
       "4              76.93  \n",
       "...              ...  \n",
       "17320          80.28  \n",
       "17321          79.37  \n",
       "17322         115.20  \n",
       "17323          71.21  \n",
       "17324          65.77  \n",
       "\n",
       "[17325 rows x 6 columns]"
      ],
      "text/html": [
       "<div>\n",
       "<style scoped>\n",
       "    .dataframe tbody tr th:only-of-type {\n",
       "        vertical-align: middle;\n",
       "    }\n",
       "\n",
       "    .dataframe tbody tr th {\n",
       "        vertical-align: top;\n",
       "    }\n",
       "\n",
       "    .dataframe thead th {\n",
       "        text-align: right;\n",
       "    }\n",
       "</style>\n",
       "<table border=\"1\" class=\"dataframe\">\n",
       "  <thead>\n",
       "    <tr style=\"text-align: right;\">\n",
       "      <th></th>\n",
       "      <th>ageattest</th>\n",
       "      <th>resting_hr</th>\n",
       "      <th>height inch-&gt;cm</th>\n",
       "      <th>resting_sbp</th>\n",
       "      <th>resting_dbp</th>\n",
       "      <th>weight Ib-&gt;kg</th>\n",
       "    </tr>\n",
       "  </thead>\n",
       "  <tbody>\n",
       "    <tr>\n",
       "      <th>0</th>\n",
       "      <td>42.0</td>\n",
       "      <td>60.00</td>\n",
       "      <td>186.70</td>\n",
       "      <td>122.00</td>\n",
       "      <td>82.00</td>\n",
       "      <td>84.81</td>\n",
       "    </tr>\n",
       "    <tr>\n",
       "      <th>1</th>\n",
       "      <td>55.0</td>\n",
       "      <td>72.26</td>\n",
       "      <td>159.99</td>\n",
       "      <td>121.71</td>\n",
       "      <td>78.74</td>\n",
       "      <td>87.79</td>\n",
       "    </tr>\n",
       "    <tr>\n",
       "      <th>2</th>\n",
       "      <td>62.0</td>\n",
       "      <td>72.26</td>\n",
       "      <td>157.00</td>\n",
       "      <td>121.71</td>\n",
       "      <td>78.74</td>\n",
       "      <td>78.09</td>\n",
       "    </tr>\n",
       "    <tr>\n",
       "      <th>3</th>\n",
       "      <td>58.0</td>\n",
       "      <td>68.00</td>\n",
       "      <td>185.42</td>\n",
       "      <td>118.00</td>\n",
       "      <td>74.00</td>\n",
       "      <td>80.82</td>\n",
       "    </tr>\n",
       "    <tr>\n",
       "      <th>4</th>\n",
       "      <td>55.0</td>\n",
       "      <td>72.26</td>\n",
       "      <td>171.90</td>\n",
       "      <td>121.71</td>\n",
       "      <td>78.74</td>\n",
       "      <td>76.93</td>\n",
       "    </tr>\n",
       "    <tr>\n",
       "      <th>...</th>\n",
       "      <td>...</td>\n",
       "      <td>...</td>\n",
       "      <td>...</td>\n",
       "      <td>...</td>\n",
       "      <td>...</td>\n",
       "      <td>...</td>\n",
       "    </tr>\n",
       "    <tr>\n",
       "      <th>17320</th>\n",
       "      <td>47.0</td>\n",
       "      <td>110.00</td>\n",
       "      <td>179.07</td>\n",
       "      <td>124.00</td>\n",
       "      <td>74.00</td>\n",
       "      <td>80.28</td>\n",
       "    </tr>\n",
       "    <tr>\n",
       "      <th>17321</th>\n",
       "      <td>26.0</td>\n",
       "      <td>96.00</td>\n",
       "      <td>165.10</td>\n",
       "      <td>108.00</td>\n",
       "      <td>72.00</td>\n",
       "      <td>79.37</td>\n",
       "    </tr>\n",
       "    <tr>\n",
       "      <th>17322</th>\n",
       "      <td>50.0</td>\n",
       "      <td>106.00</td>\n",
       "      <td>181.61</td>\n",
       "      <td>118.00</td>\n",
       "      <td>72.00</td>\n",
       "      <td>115.20</td>\n",
       "    </tr>\n",
       "    <tr>\n",
       "      <th>17323</th>\n",
       "      <td>20.0</td>\n",
       "      <td>105.00</td>\n",
       "      <td>182.88</td>\n",
       "      <td>122.00</td>\n",
       "      <td>76.00</td>\n",
       "      <td>71.21</td>\n",
       "    </tr>\n",
       "    <tr>\n",
       "      <th>17324</th>\n",
       "      <td>75.0</td>\n",
       "      <td>111.00</td>\n",
       "      <td>170.18</td>\n",
       "      <td>138.00</td>\n",
       "      <td>94.00</td>\n",
       "      <td>65.77</td>\n",
       "    </tr>\n",
       "  </tbody>\n",
       "</table>\n",
       "<p>17325 rows × 6 columns</p>\n",
       "</div>"
      ]
     },
     "metadata": {},
     "execution_count": 13
    }
   ],
   "metadata": {}
  },
  {
   "cell_type": "code",
   "execution_count": 47,
   "source": [
    "pred_y = loaded_model.predict(df_norm[attributes])\r\n",
    "pred_y"
   ],
   "outputs": [
    {
     "output_type": "execute_result",
     "data": {
      "text/plain": [
       "array([170.16121621, 158.771047  , 163.60287548, ..., 184.1908143 ,\n",
       "       195.36903027, 192.61375219])"
      ]
     },
     "metadata": {},
     "execution_count": 47
    }
   ],
   "metadata": {}
  },
  {
   "cell_type": "code",
   "execution_count": 28,
   "source": [
    "real_y = np.array(df_norm['max_hr'])"
   ],
   "outputs": [],
   "metadata": {}
  },
  {
   "cell_type": "code",
   "execution_count": 31,
   "source": [
    "from sklearn.metrics import mean_squared_error\r\n",
    "np.sqrt(mean_squared_error(real_y, pred_y))"
   ],
   "outputs": [
    {
     "output_type": "execute_result",
     "data": {
      "text/plain": [
       "9.785316259123542"
      ]
     },
     "metadata": {},
     "execution_count": 31
    }
   ],
   "metadata": {}
  },
  {
   "cell_type": "code",
   "execution_count": 34,
   "source": [
    "df_norm[attributes].iloc[1]"
   ],
   "outputs": [
    {
     "output_type": "execute_result",
     "data": {
      "text/plain": [
       "ageattest          0.514706\n",
       "resting_hr         0.457500\n",
       "height inch->cm    0.254439\n",
       "resting_sbp        0.379182\n",
       "resting_dbp        0.484250\n",
       "weight Ib->kg      0.291403\n",
       "Name: 1, dtype: float64"
      ]
     },
     "metadata": {},
     "execution_count": 34
    }
   ],
   "metadata": {}
  },
  {
   "cell_type": "code",
   "execution_count": 33,
   "source": [
    "loaded_model.predict([df_norm[attributes].iloc[1]])"
   ],
   "outputs": [
    {
     "output_type": "execute_result",
     "data": {
      "text/plain": [
       "array([158.771047])"
      ]
     },
     "metadata": {},
     "execution_count": 33
    }
   ],
   "metadata": {}
  },
  {
   "cell_type": "code",
   "execution_count": 46,
   "source": [
    "params = np.array(df[attributes].iloc[1])\r\n",
    "params"
   ],
   "outputs": [
    {
     "output_type": "execute_result",
     "data": {
      "text/plain": [
       "array([ 55.  ,  72.26, 159.99, 121.71,  78.74,  87.79])"
      ]
     },
     "metadata": {},
     "execution_count": 46
    }
   ],
   "metadata": {}
  },
  {
   "cell_type": "code",
   "execution_count": 43,
   "source": [
    "maxs = np.array([88, 120, 208.28, 190, 120, 179.61])\r\n",
    "mins = np.array([20, 32, 143.51, 80, 40, 50.03])\r\n",
    "\r\n",
    "sub = maxs - mins\r\n",
    "params = (params - mins) / sub\r\n",
    "print(params)"
   ],
   "outputs": [
    {
     "output_type": "stream",
     "name": "stdout",
     "text": [
      "[0.51470588 0.4575     0.25443878 0.37918182 0.48425    0.29140299]\n"
     ]
    }
   ],
   "metadata": {}
  },
  {
   "cell_type": "code",
   "execution_count": 44,
   "source": [
    "loaded_model.predict([params])"
   ],
   "outputs": [
    {
     "output_type": "execute_result",
     "data": {
      "text/plain": [
       "array([158.771047])"
      ]
     },
     "metadata": {},
     "execution_count": 44
    }
   ],
   "metadata": {}
  }
 ],
 "metadata": {
  "orig_nbformat": 4,
  "language_info": {
   "name": "python",
   "version": "3.8.3",
   "mimetype": "text/x-python",
   "codemirror_mode": {
    "name": "ipython",
    "version": 3
   },
   "pygments_lexer": "ipython3",
   "nbconvert_exporter": "python",
   "file_extension": ".py"
  },
  "kernelspec": {
   "name": "python3",
   "display_name": "Python 3.8.3 64-bit ('base': conda)"
  },
  "interpreter": {
   "hash": "e95aad3babcde9c58acfd2524f29ee3ddce9a7948fc8cd54c23d72e38b4b7f31"
  }
 },
 "nbformat": 4,
 "nbformat_minor": 2
}